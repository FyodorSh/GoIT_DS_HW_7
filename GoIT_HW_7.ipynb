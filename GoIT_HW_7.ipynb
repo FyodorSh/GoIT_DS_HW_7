{
  "nbformat": 4,
  "nbformat_minor": 0,
  "metadata": {
    "colab": {
      "provenance": []
    },
    "kernelspec": {
      "name": "python3",
      "display_name": "Python 3"
    },
    "language_info": {
      "name": "python"
    }
  },
  "cells": [
    {
      "cell_type": "code",
      "source": [
        "!pip install scikit-surprise"
      ],
      "metadata": {
        "colab": {
          "base_uri": "https://localhost:8080/"
        },
        "id": "-KCgqgwv7R8I",
        "outputId": "356e67da-da24-47dd-e2ad-97d5a42100a9"
      },
      "execution_count": 3,
      "outputs": [
        {
          "output_type": "stream",
          "name": "stdout",
          "text": [
            "Collecting scikit-surprise\n",
            "  Downloading scikit-surprise-1.1.3.tar.gz (771 kB)\n",
            "\u001b[?25l     \u001b[90m━━━━━━━━━━━━━━━━━━━━━━━━━━━━━━━━━━━━━━━━\u001b[0m \u001b[32m0.0/772.0 kB\u001b[0m \u001b[31m?\u001b[0m eta \u001b[36m-:--:--\u001b[0m\r\u001b[2K     \u001b[91m━━━━━━━━━━━━━━━━━━━━━━━━━━━━━━━━━━━━━\u001b[0m\u001b[91m╸\u001b[0m \u001b[32m768.0/772.0 kB\u001b[0m \u001b[31m24.2 MB/s\u001b[0m eta \u001b[36m0:00:01\u001b[0m\r\u001b[2K     \u001b[90m━━━━━━━━━━━━━━━━━━━━━━━━━━━━━━━━━━━━━━\u001b[0m \u001b[32m772.0/772.0 kB\u001b[0m \u001b[31m18.8 MB/s\u001b[0m eta \u001b[36m0:00:00\u001b[0m\n",
            "\u001b[?25h  Preparing metadata (setup.py) ... \u001b[?25l\u001b[?25hdone\n",
            "Requirement already satisfied: joblib>=1.0.0 in /usr/local/lib/python3.10/dist-packages (from scikit-surprise) (1.3.2)\n",
            "Requirement already satisfied: numpy>=1.17.3 in /usr/local/lib/python3.10/dist-packages (from scikit-surprise) (1.23.5)\n",
            "Requirement already satisfied: scipy>=1.3.2 in /usr/local/lib/python3.10/dist-packages (from scikit-surprise) (1.10.1)\n",
            "Building wheels for collected packages: scikit-surprise\n",
            "  Building wheel for scikit-surprise (setup.py) ... \u001b[?25l\u001b[?25hdone\n",
            "  Created wheel for scikit-surprise: filename=scikit_surprise-1.1.3-cp310-cp310-linux_x86_64.whl size=2811602 sha256=491fab60f6fcd0a2adcfbfa6097c8041812cb629ed3ec5633482a22fbe247638\n",
            "  Stored in directory: /root/.cache/pip/wheels/a5/ca/a8/4e28def53797fdc4363ca4af740db15a9c2f1595ebc51fb445\n",
            "Successfully built scikit-surprise\n",
            "Installing collected packages: scikit-surprise\n",
            "Successfully installed scikit-surprise-1.1.3\n"
          ]
        }
      ]
    },
    {
      "cell_type": "code",
      "execution_count": 4,
      "metadata": {
        "id": "hyUjlvrVupqh"
      },
      "outputs": [],
      "source": [
        "import pandas as pd\n",
        "import numpy as np\n",
        "from surprise import SVD, NMF, SVDpp\n",
        "from surprise import Dataset\n",
        "from surprise import Reader\n",
        "from surprise.model_selection import cross_validate"
      ]
    },
    {
      "cell_type": "code",
      "source": [
        "ratings = pd.read_csv('/content/drive/MyDrive/Colab Notebooks/ratings.csv')\n",
        "movies = pd.read_csv('/content/drive/MyDrive/Colab Notebooks/movies.csv')\n",
        "tags = pd.read_csv('/content/drive/MyDrive/Colab Notebooks/tags.csv')"
      ],
      "metadata": {
        "id": "8O0fQNA-u-MO"
      },
      "execution_count": 5,
      "outputs": []
    },
    {
      "cell_type": "code",
      "source": [
        "merged_data = pd.merge(ratings, movies, on='movieId')\n",
        "merged_data = pd.merge(merged_data, tags, on=['userId', 'movieId'])"
      ],
      "metadata": {
        "id": "TCFOvJpmvCw6"
      },
      "execution_count": 6,
      "outputs": []
    },
    {
      "cell_type": "code",
      "source": [
        "reader = Reader(rating_scale=(1, 5))\n",
        "data = Dataset.load_from_df(merged_data[['userId', 'movieId', 'rating']], reader)"
      ],
      "metadata": {
        "id": "N63QS4aIvF7o"
      },
      "execution_count": 7,
      "outputs": []
    },
    {
      "cell_type": "code",
      "source": [
        "svd = SVD()\n",
        "svdpp = SVDpp()\n",
        "nmf = NMF()"
      ],
      "metadata": {
        "id": "jjXc_hxIvH-P"
      },
      "execution_count": 8,
      "outputs": []
    },
    {
      "cell_type": "code",
      "source": [
        "cross_validate(svd, data, measures=['RMSE', 'MAE'], cv=5, verbose=True)"
      ],
      "metadata": {
        "id": "thlUHFdtvKzL",
        "colab": {
          "base_uri": "https://localhost:8080/"
        },
        "outputId": "81ba57da-9a28-493d-c413-982876616d52"
      },
      "execution_count": 9,
      "outputs": [
        {
          "output_type": "stream",
          "name": "stdout",
          "text": [
            "Evaluating RMSE, MAE of algorithm SVD on 5 split(s).\n",
            "\n",
            "                  Fold 1  Fold 2  Fold 3  Fold 4  Fold 5  Mean    Std     \n",
            "RMSE (testset)    0.5372  0.6044  0.5503  0.5651  0.5457  0.5605  0.0237  \n",
            "MAE (testset)     0.3241  0.3645  0.3484  0.3539  0.3437  0.3469  0.0133  \n",
            "Fit time          0.03    0.02    0.02    0.02    0.02    0.02    0.00    \n",
            "Test time         0.00    0.00    0.00    0.00    0.00    0.00    0.00    \n"
          ]
        },
        {
          "output_type": "execute_result",
          "data": {
            "text/plain": [
              "{'test_rmse': array([0.53717678, 0.60435828, 0.55029401, 0.56509959, 0.54574506]),\n",
              " 'test_mae': array([0.3241376 , 0.36454028, 0.34841328, 0.35391831, 0.34373096]),\n",
              " 'fit_time': (0.025118350982666016,\n",
              "  0.023439884185791016,\n",
              "  0.021068572998046875,\n",
              "  0.024358510971069336,\n",
              "  0.021538734436035156),\n",
              " 'test_time': (0.0033326148986816406,\n",
              "  0.002744913101196289,\n",
              "  0.0027663707733154297,\n",
              "  0.004416227340698242,\n",
              "  0.002777576446533203)}"
            ]
          },
          "metadata": {},
          "execution_count": 9
        }
      ]
    },
    {
      "cell_type": "code",
      "source": [
        "cross_validate(svdpp, data, measures=['RMSE', 'MAE'], cv=5, verbose=True)"
      ],
      "metadata": {
        "colab": {
          "base_uri": "https://localhost:8080/"
        },
        "id": "Zt_YmjuKvPD4",
        "outputId": "02a76d4e-5d51-4a1b-a58b-9bc57f69294d"
      },
      "execution_count": 10,
      "outputs": [
        {
          "output_type": "stream",
          "name": "stdout",
          "text": [
            "Evaluating RMSE, MAE of algorithm SVDpp on 5 split(s).\n",
            "\n",
            "                  Fold 1  Fold 2  Fold 3  Fold 4  Fold 5  Mean    Std     \n",
            "RMSE (testset)    0.5238  0.5340  0.5157  0.5381  0.5652  0.5353  0.0168  \n",
            "MAE (testset)     0.2969  0.3144  0.3049  0.3108  0.3152  0.3084  0.0068  \n",
            "Fit time          4.54    4.69    3.51    3.63    3.36    3.94    0.55    \n",
            "Test time         0.36    0.36    0.16    0.19    0.14    0.24    0.10    \n"
          ]
        },
        {
          "output_type": "execute_result",
          "data": {
            "text/plain": [
              "{'test_rmse': array([0.52379377, 0.53395403, 0.51568913, 0.53807846, 0.56515063]),\n",
              " 'test_mae': array([0.29690076, 0.31440982, 0.30492781, 0.3107631 , 0.31519688]),\n",
              " 'fit_time': (4.5413978099823,\n",
              "  4.685488939285278,\n",
              "  3.508847713470459,\n",
              "  3.6315739154815674,\n",
              "  3.3568592071533203),\n",
              " 'test_time': (0.35553979873657227,\n",
              "  0.36386871337890625,\n",
              "  0.15796351432800293,\n",
              "  0.18631219863891602,\n",
              "  0.1433427333831787)}"
            ]
          },
          "metadata": {},
          "execution_count": 10
        }
      ]
    },
    {
      "cell_type": "code",
      "source": [
        "cross_validate(nmf, data, measures=['RMSE', 'MAE'], cv=5, verbose=True)"
      ],
      "metadata": {
        "colab": {
          "base_uri": "https://localhost:8080/"
        },
        "id": "d1kE5fOyvRNr",
        "outputId": "eb553a59-62c8-48bf-a06f-375cf23e083d"
      },
      "execution_count": 11,
      "outputs": [
        {
          "output_type": "stream",
          "name": "stdout",
          "text": [
            "Evaluating RMSE, MAE of algorithm NMF on 5 split(s).\n",
            "\n",
            "                  Fold 1  Fold 2  Fold 3  Fold 4  Fold 5  Mean    Std     \n",
            "RMSE (testset)    0.5346  0.6080  0.5751  0.6114  0.6217  0.5902  0.0319  \n",
            "MAE (testset)     0.2656  0.3247  0.2909  0.3088  0.3154  0.3011  0.0209  \n",
            "Fit time          0.07    0.07    0.07    0.08    0.08    0.07    0.00    \n",
            "Test time         0.00    0.00    0.00    0.00    0.00    0.00    0.00    \n"
          ]
        },
        {
          "output_type": "execute_result",
          "data": {
            "text/plain": [
              "{'test_rmse': array([0.53455745, 0.60800721, 0.57513214, 0.6113855 , 0.62174791]),\n",
              " 'test_mae': array([0.26560564, 0.3246801 , 0.29086042, 0.30881146, 0.31540742]),\n",
              " 'fit_time': (0.07419395446777344,\n",
              "  0.07012176513671875,\n",
              "  0.07219529151916504,\n",
              "  0.07956123352050781,\n",
              "  0.0768589973449707),\n",
              " 'test_time': (0.0024271011352539062,\n",
              "  0.0024034976959228516,\n",
              "  0.003101825714111328,\n",
              "  0.002404928207397461,\n",
              "  0.0024421215057373047)}"
            ]
          },
          "metadata": {},
          "execution_count": 11
        }
      ]
    },
    {
      "cell_type": "markdown",
      "source": [
        "###SVD\n",
        "RMSE: 0.5372 (std: 0.0237)\n",
        "MAE: 0.3241 (std: 0.0133)\n",
        "Fit time: 0.03\n",
        "Test time: 0.00\n",
        "\n",
        "###SVDpp\n",
        "RMSE: 0.5238 (std: 0.0168)\n",
        "MAE: 0.2969 (std: 0.0068)\n",
        "Fit time: 4.54\n",
        "Test time: 0.36\n",
        "\n",
        "###NMF\n",
        "RMSE: 0.5346 (std: 0.0319)\n",
        "MAE: 0.2656 (std: 0.0209)\n",
        "Fit time: 0.07\n",
        "Test time: 0.00\n",
        "\n",
        "З отриманих результатів видно що кожна модель має дуже наближені значення RMSE та також схожі значення MAE. Значить кожну моделей можливо використовувати. Але SVDpp має більший за всіх час навчання та тестування."
      ],
      "metadata": {
        "id": "rCVgl17SaZwK"
      }
    },
    {
      "cell_type": "code",
      "source": [
        "trainset = data.build_full_trainset()\n",
        "svd.fit(trainset)"
      ],
      "metadata": {
        "colab": {
          "base_uri": "https://localhost:8080/"
        },
        "id": "ku0yvAD138nj",
        "outputId": "ae2bde36-d5e8-4a87-8827-d01dd6db3ce0"
      },
      "execution_count": 12,
      "outputs": [
        {
          "output_type": "execute_result",
          "data": {
            "text/plain": [
              "<surprise.prediction_algorithms.matrix_factorization.SVD at 0x7f0aad86ded0>"
            ]
          },
          "metadata": {},
          "execution_count": 12
        }
      ]
    },
    {
      "cell_type": "code",
      "source": [
        "trainset = data.build_full_trainset()\n",
        "svdpp.fit(trainset)"
      ],
      "metadata": {
        "colab": {
          "base_uri": "https://localhost:8080/"
        },
        "id": "9xN47Xl233Zj",
        "outputId": "70e7e117-74d4-48b3-a7a1-1f5426e12488"
      },
      "execution_count": 13,
      "outputs": [
        {
          "output_type": "execute_result",
          "data": {
            "text/plain": [
              "<surprise.prediction_algorithms.matrix_factorization.SVDpp at 0x7f0aad87dab0>"
            ]
          },
          "metadata": {},
          "execution_count": 13
        }
      ]
    },
    {
      "cell_type": "code",
      "source": [
        "trainset = data.build_full_trainset()\n",
        "nmf.fit(trainset)"
      ],
      "metadata": {
        "colab": {
          "base_uri": "https://localhost:8080/"
        },
        "id": "BzPSrahD35rD",
        "outputId": "bcd68038-635a-4dcd-d455-68b264b2883d"
      },
      "execution_count": 14,
      "outputs": [
        {
          "output_type": "execute_result",
          "data": {
            "text/plain": [
              "<surprise.prediction_algorithms.matrix_factorization.NMF at 0x7f0aad86e020>"
            ]
          },
          "metadata": {},
          "execution_count": 14
        }
      ]
    },
    {
      "cell_type": "code",
      "source": [
        "ratings_data = pd.read_csv('/content/drive/MyDrive/Colab Notebooks/ratings.csv')\n",
        "movies_data = pd.read_csv('/content/drive/MyDrive/Colab Notebooks/movies.csv')"
      ],
      "metadata": {
        "id": "3aBMzfSzxeO9"
      },
      "execution_count": 15,
      "outputs": []
    },
    {
      "cell_type": "code",
      "source": [
        "users = ratings_data['userId'].unique()\n",
        "movies = ratings_data['movieId'].unique()"
      ],
      "metadata": {
        "id": "yxxDq59D3I24"
      },
      "execution_count": 16,
      "outputs": []
    },
    {
      "cell_type": "code",
      "source": [
        "num_users = len(users)\n",
        "num_movies = len(movies)"
      ],
      "metadata": {
        "id": "NeC3K8SA3OBF"
      },
      "execution_count": 17,
      "outputs": []
    },
    {
      "cell_type": "code",
      "source": [
        "ratings_matrix = np.zeros((num_users, num_movies))"
      ],
      "metadata": {
        "id": "HYSU_2X93Otn"
      },
      "execution_count": 18,
      "outputs": []
    },
    {
      "cell_type": "code",
      "source": [
        "user_indices = np.searchsorted(users, ratings_data['userId'])\n",
        "movie_indices = np.searchsorted(movies, ratings_data['movieId'])"
      ],
      "metadata": {
        "id": "Q4CbUs7R3Qvr"
      },
      "execution_count": 19,
      "outputs": []
    },
    {
      "cell_type": "code",
      "source": [
        "valid_indices = (user_indices < num_users) & (movie_indices < num_movies)\n",
        "user_indices = user_indices[valid_indices]\n",
        "movie_indices = movie_indices[valid_indices]\n",
        "ratings_data = ratings_data[valid_indices]"
      ],
      "metadata": {
        "id": "_D7aXvIt3Sl6"
      },
      "execution_count": 20,
      "outputs": []
    },
    {
      "cell_type": "code",
      "source": [
        "ratings_matrix[user_indices, movie_indices] = ratings_data['rating']"
      ],
      "metadata": {
        "id": "5qOBPejS3UXu"
      },
      "execution_count": 21,
      "outputs": []
    },
    {
      "cell_type": "code",
      "source": [
        "user_similarity = np.dot(ratings_matrix, ratings_matrix.T)"
      ],
      "metadata": {
        "id": "IDJGUFmU3WTR"
      },
      "execution_count": 22,
      "outputs": []
    },
    {
      "cell_type": "code",
      "source": [
        "def predict_rating(user_id, movie_id):\n",
        "    user_index = np.where(users == user_id)[0][0]\n",
        "    movie_index = np.where(movies == movie_id)[0][0]\n",
        "\n",
        "    rated_users = np.nonzero(ratings_matrix[:, movie_index])[0]\n",
        "\n",
        "    similarities = user_similarity[user_index, rated_users]\n",
        "\n",
        "    k = 5\n",
        "    top_similarities = np.argsort(similarities)[-k:]\n",
        "\n",
        "    weighted_ratings = np.sum(similarities[top_similarities] * ratings_matrix[rated_users[top_similarities], movie_index])\n",
        "    similarity_sum = np.sum(np.abs(similarities[top_similarities]))\n",
        "\n",
        "    if similarity_sum > 0:\n",
        "        predicted_rating = weighted_ratings / similarity_sum\n",
        "    else:\n",
        "        predicted_rating = 0.0\n",
        "\n",
        "    movie_title = movies_data[movies_data['movieId'] == movie_id]['title'].values[0]\n",
        "\n",
        "    return predicted_rating, movie_title"
      ],
      "metadata": {
        "id": "1CtsgELR3aSA"
      },
      "execution_count": 24,
      "outputs": []
    },
    {
      "cell_type": "code",
      "source": [
        "user_id = 1\n",
        "movie_id = 665\n",
        "\n",
        "predicted_rating, movie_title = predict_rating(user_id, movie_id)\n",
        "print(f\"Predicted user rating {user_id} for movie '{movie_title} (ID: {movie_id})': {predicted_rating}\")"
      ],
      "metadata": {
        "colab": {
          "base_uri": "https://localhost:8080/"
        },
        "id": "spMSHF5L3lHy",
        "outputId": "076e7f65-2cab-4768-95c5-55b4963cf7e7"
      },
      "execution_count": 25,
      "outputs": [
        {
          "output_type": "stream",
          "name": "stdout",
          "text": [
            "Прогнозований рейтинг користувача 1 для фільму 'Underground (1995) (ID: 665)': 3.3922651933701657\n"
          ]
        }
      ]
    },
    {
      "cell_type": "code",
      "source": [
        "user_id = 2\n",
        "movie_id = 2404\n",
        "\n",
        "predicted_rating, movie_title = predict_rating(user_id, movie_id)\n",
        "print(f\"Predicted user rating {user_id} for movie '{movie_title} (ID: {movie_id})': {predicted_rating}\")"
      ],
      "metadata": {
        "colab": {
          "base_uri": "https://localhost:8080/"
        },
        "id": "ilcWg3iR3l0F",
        "outputId": "cdf2e6a5-a984-45c8-9fc2-c632480245ff"
      },
      "execution_count": 26,
      "outputs": [
        {
          "output_type": "stream",
          "name": "stdout",
          "text": [
            "Прогнозований рейтинг користувача 2 для фільму 'Rambo III (1988) (ID: 2404)': 5.0\n"
          ]
        }
      ]
    },
    {
      "cell_type": "code",
      "source": [
        "def get_top_movies_for_user(user_id, top_n=10):\n",
        "    user_index = np.where(users == user_id)[0][0]\n",
        "\n",
        "    predicted_ratings = np.zeros(num_movies)\n",
        "    for movie_index in range(num_movies):\n",
        "        if ratings_matrix[user_index, movie_index] != 0:\n",
        "            continue\n",
        "\n",
        "        similarities = user_similarity[user_index, :]\n",
        "        rated_users = np.nonzero(ratings_matrix[:, movie_index])[0]\n",
        "        weighted_ratings = np.sum(similarities[rated_users] * ratings_matrix[rated_users, movie_index])\n",
        "        similarity_sum = np.sum(np.abs(similarities[rated_users]))\n",
        "        if similarity_sum > 0:\n",
        "            predicted_ratings[movie_index] = weighted_ratings / similarity_sum\n",
        "\n",
        "    top_movie_indices = np.argsort(predicted_ratings)[::-1][:top_n]\n",
        "\n",
        "    top_movie_titles = [movies_data[movies_data['movieId'] == movies[index]]['title'].values[0] for index in top_movie_indices]\n",
        "\n",
        "    return top_movie_indices, top_movie_titles"
      ],
      "metadata": {
        "id": "Z0aFa0c73s7H"
      },
      "execution_count": 27,
      "outputs": []
    },
    {
      "cell_type": "code",
      "source": [
        "user_id = 2\n",
        "top_movie_indices, top_movie_titles = get_top_movies_for_user(user_id)\n",
        "\n",
        "print(f\"Top 10 movies for user - {user_id}:\")\n",
        "for index, title in zip(top_movie_indices, top_movie_titles):\n",
        "    print(f\"{title} (ID: {movies[index]})\")"
      ],
      "metadata": {
        "colab": {
          "base_uri": "https://localhost:8080/"
        },
        "id": "4Nd8mFBi3uMq",
        "outputId": "2308483f-c2af-43cd-d9b5-f4055392f9f9"
      },
      "execution_count": 28,
      "outputs": [
        {
          "output_type": "stream",
          "name": "stdout",
          "text": [
            "Топ-10 фільмів для користувача 2:\n",
            "When We Were Kings (1996) (ID: 1147)\n",
            "Rambo III (1988) (ID: 2404)\n",
            "Falling Down (1993) (ID: 3020)\n",
            "Chopper (2000) (ID: 4251)\n",
            "Hudsucker Proxy, The (1994) (ID: 471)\n",
            "Farewell My Concubine (Ba wang bie ji) (1993) (ID: 446)\n",
            "Onegin (1999) (ID: 3161)\n",
            "La Cérémonie (1995) (ID: 1406)\n",
            "Perfect Candidate, A (1996) (ID: 1123)\n",
            "Glass Menagerie, The (1987) (ID: 4113)\n"
          ]
        }
      ]
    }
  ]
}